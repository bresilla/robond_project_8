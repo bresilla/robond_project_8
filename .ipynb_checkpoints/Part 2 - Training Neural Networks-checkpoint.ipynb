{
 "cells": [
  {
   "cell_type": "markdown",
   "metadata": {},
   "source": [
    "# Training Neural Networks\n",
    "\n",
    "The network we built in Part 1 is dumb, it doesn't know anything about our handwritten digits. Neural networks with non-linear activations work like universal function approximators. There is some function that maps your input to the output. For example, images of handwritten digits to class probabilities. The power of neural networks is that we can train them to approximate this function, and basically any function given enough data and compute time.\n",
    "\n",
    "<img src=\"assets/function_approx.png\" width=500px>\n",
    "\n",
    "At first the network is naive, it doesn't know the function mapping the inputs to the outputs. We train the network by showing it examples of real data, then adjusting the network parameters such that it approximates this function.\n",
    "\n",
    "To find these parameters, we need to know how poorly the network is predicting the real outputs. For this we calculate a **loss function** (also called the cost), a measure of our prediction error. For example, the mean squared loss is often used in regression and binary classification problems\n",
    "\n",
    "$$\n",
    "C = \\frac{1}{2n}\\sum_i^n{\\left(y_i - \\hat{y}_i\\right)^2}\n",
    "$$\n",
    "\n",
    "where $n$ is the number of training examples, $y_i$ are the true labels, and $\\hat{y}_i$ are the predicted labels.\n",
    "\n",
    "By minimizing this loss with respect to the network parameters, we can find configurations where the loss is at a minimum and the network is able to predict the correct labels with high accuracy. We find this minimum using a process called **gradient descent**. The gradient is the slope of the loss function and points in the direction of fastest change. To get to the minimum in the least amount of time, we then want to follow the gradient (downwards). You can think of this like descending a mountain by following the steepest slope to the base.\n",
    "\n",
    "<img src='assets/gradient_descent.png' width=350px>"
   ]
  },
  {
   "cell_type": "markdown",
   "metadata": {},
   "source": [
    "## Backpropagation\n",
    "\n",
    "For single layer networks, gradient descent is simple to implement. However, it's more complicated for deeper, multilayer neural networks like the one we've built. Complicated enough that it took about 30 years before researchers figured out how to train multilayer networks, although it's straightforward once you learn about it. \n",
    "\n",
    "This is done through **backpropagation** which is really just an application of the chain rule from calculus. It's easiest to understand if we convert a two layer network into a graph representation.\n",
    "\n",
    "<img src='assets/w1_backprop_graph.png' width=400px>\n",
    "\n",
    "In the forward pass through the network, our data and operations go from right to left here. To train the weights with gradient descent, we propagate the gradient of the cost backwards through the network. Mathematically, this is really just calculating the gradient of the loss with respect to the weights using the chain rule.\n",
    "\n",
    "$$\n",
    "\\frac{\\partial C}{\\partial w_1} = \\frac{\\partial l_1}{\\partial w_1} \\frac{\\partial s}{\\partial l_1} \\frac{\\partial l_2}{\\partial s} \\frac{\\partial C}{\\partial l_2}\n",
    "$$\n",
    "\n",
    "We update our weights using this gradient with some learning rate $\\alpha$. \n",
    "\n",
    "$$\n",
    "w^\\prime = w - \\alpha \\frac{\\partial C}{\\partial w}\n",
    "$$\n",
    "\n",
    "The learning rate is set such that the weight update steps are small enough that the iterative method settles in a minimum.\n",
    "\n",
    "The first thing we need to do for training is define our loss function. In PyTorch, you'll usually see this as `criterion`. Here we're using softmax output, so we want to use `criterion = nn.CrossEntropyLoss()` as our loss. Later when training, you use `loss = criterion(output, targets)` to calculate the actual loss.\n",
    "\n",
    "We also need to define the optimizer we're using, SGD or Adam, or something along those lines. Here I'll just use SGD with `torch.optim.SGD`, passing in the network parameters and the learning rate."
   ]
  },
  {
   "cell_type": "markdown",
   "metadata": {
    "collapsed": true
   },
   "source": [
    "## Autograd\n",
    "\n",
    "Torch provides a module, `autograd`, for automatically calculating the gradient of tensors. It does this by keeping track of operations performed on tensors. For PyTorch to track operations, you need to wrap a tensor with the `Variable` class from `torch.autograd`. You can get the tensor back with the `.data` attribute of the Variable.\n",
    "\n",
    "The gradients are computed with respect to some variable `z` with `z.backward()`. This does a backward pass through the operations that created `z`."
   ]
  },
  {
   "cell_type": "code",
   "execution_count": 1,
   "metadata": {},
   "outputs": [],
   "source": [
    "%matplotlib inline\n",
    "%config InlineBackend.figure_format = 'retina'\n",
    "\n",
    "import numpy as np\n",
    "import time\n",
    "\n",
    "import torch\n",
    "from torch import nn\n",
    "from torch import optim\n",
    "import torch.nn.functional as F\n",
    "from torch.autograd import Variable\n",
    "\n",
    "import helper"
   ]
  },
  {
   "cell_type": "code",
   "execution_count": 2,
   "metadata": {},
   "outputs": [
    {
     "data": {
      "text/plain": [
       "tensor([[ 1.,  1.],\n",
       "        [ 1.,  1.]])"
      ]
     },
     "execution_count": 2,
     "metadata": {},
     "output_type": "execute_result"
    }
   ],
   "source": [
    "x = torch.ones(2,2)\n",
    "x = Variable(x, requires_grad=True)\n",
    "x"
   ]
  },
  {
   "cell_type": "code",
   "execution_count": 3,
   "metadata": {},
   "outputs": [
    {
     "data": {
      "text/plain": [
       "tensor([[ 12.,  12.],\n",
       "        [ 12.,  12.]])"
      ]
     },
     "execution_count": 3,
     "metadata": {},
     "output_type": "execute_result"
    }
   ],
   "source": [
    "y = 3*(x+1)**2\n",
    "y"
   ]
  },
  {
   "cell_type": "markdown",
   "metadata": {},
   "source": [
    "Below we can see the operation that created `y`, a `MulConstant` op."
   ]
  },
  {
   "cell_type": "code",
   "execution_count": 4,
   "metadata": {},
   "outputs": [
    {
     "data": {
      "text/plain": [
       "<MulBackward0 at 0x7fd2284fbbe0>"
      ]
     },
     "execution_count": 4,
     "metadata": {},
     "output_type": "execute_result"
    }
   ],
   "source": [
    "## grad_fn shows the function that generated this variable\n",
    "y.grad_fn"
   ]
  },
  {
   "cell_type": "code",
   "execution_count": 5,
   "metadata": {},
   "outputs": [
    {
     "data": {
      "text/plain": [
       "tensor(12.)"
      ]
     },
     "execution_count": 5,
     "metadata": {},
     "output_type": "execute_result"
    }
   ],
   "source": [
    "z = y.mean()\n",
    "z"
   ]
  },
  {
   "cell_type": "markdown",
   "metadata": {},
   "source": [
    "Again, we can check out how `z` was created, with a `Mean` operation."
   ]
  },
  {
   "cell_type": "code",
   "execution_count": 6,
   "metadata": {},
   "outputs": [
    {
     "data": {
      "text/plain": [
       "<MeanBackward1 at 0x7fd2284fbd68>"
      ]
     },
     "execution_count": 6,
     "metadata": {},
     "output_type": "execute_result"
    }
   ],
   "source": [
    "z.grad_fn"
   ]
  },
  {
   "cell_type": "markdown",
   "metadata": {},
   "source": [
    "Since we haven't performed a backward pass, `x` doesn't have a gradient yet."
   ]
  },
  {
   "cell_type": "code",
   "execution_count": 7,
   "metadata": {},
   "outputs": [],
   "source": [
    "x.grad"
   ]
  },
  {
   "cell_type": "markdown",
   "metadata": {},
   "source": [
    "Now we can calculate the gradients of `z` with respect to `x` with `z.backward()`."
   ]
  },
  {
   "cell_type": "code",
   "execution_count": 8,
   "metadata": {},
   "outputs": [
    {
     "data": {
      "text/plain": [
       "tensor([[ 3.,  3.],\n",
       "        [ 3.,  3.]])"
      ]
     },
     "execution_count": 8,
     "metadata": {},
     "output_type": "execute_result"
    }
   ],
   "source": [
    "z.backward()\n",
    "x.grad"
   ]
  },
  {
   "cell_type": "markdown",
   "metadata": {},
   "source": [
    "These gradients calculations are particularly useful for neural networks. For training we need the gradients of the weights with respect to the cost. With PyTorch, we run data forward through the network to calculate the cost, then, go backwards to calculate the gradients with respect to the cost. Once we have the gradients we can make a gradient descent step. "
   ]
  },
  {
   "cell_type": "markdown",
   "metadata": {},
   "source": [
    "## Training the network!\n",
    "\n",
    "The first thing we need to do for training is define our loss function. In PyTorch, you'll usually see this as `criterion`. Here we're using softmax output, so we want to use `criterion = nn.CrossEntropyLoss()` as our loss. Later when training, you use `loss = criterion(output, targets)` to calculate the actual loss.\n",
    "\n",
    "We also need to define the optimizer we're using, SGD or Adam, or something along those lines. Here I'll just use SGD with `torch.optim.SGD`, passing in the network parameters and the learning rate."
   ]
  },
  {
   "cell_type": "code",
   "execution_count": 9,
   "metadata": {},
   "outputs": [],
   "source": [
    "from torchvision import datasets, transforms\n",
    "\n",
    "# Define a transform to normalize the data\n",
    "transform = transforms.Compose([transforms.ToTensor(),\n",
    "                              transforms.Normalize((0.5, 0.5, 0.5), (0.5, 0.5, 0.5)),\n",
    "                             ])\n",
    "# Download and load the training data\n",
    "trainset = datasets.MNIST('MNIST_data/', download=True, train=True, transform=transform)\n",
    "trainloader = torch.utils.data.DataLoader(trainset, batch_size=64, shuffle=True)\n",
    "\n",
    "# Download and load the test data\n",
    "testset = datasets.MNIST('MNIST_data/', download=True, train=False, transform=transform)\n",
    "testloader = torch.utils.data.DataLoader(testset, batch_size=64, shuffle=True)"
   ]
  },
  {
   "cell_type": "code",
   "execution_count": 10,
   "metadata": {},
   "outputs": [],
   "source": [
    "class Network(nn.Module):\n",
    "    def __init__(self):\n",
    "        super().__init__()\n",
    "        # Defining the layers, 200, 50, 10 units each\n",
    "        self.fc1 = nn.Linear(784, 200)\n",
    "        self.fc2 = nn.Linear(200, 50)\n",
    "        # Output layer, 10 units - one for each digit\n",
    "        self.fc3 = nn.Linear(50, 10)\n",
    "        \n",
    "    def forward(self, x):\n",
    "        ''' Forward pass through the network, returns the output logits '''\n",
    "        \n",
    "        x = self.fc1(x)\n",
    "        x = F.relu(x)\n",
    "        x = self.fc2(x)\n",
    "        x = F.relu(x)\n",
    "        x = self.fc3(x)\n",
    "        \n",
    "        return x\n",
    "    \n",
    "    def predict(self, x):\n",
    "        ''' This function for predicts classes by calculating the softmax '''\n",
    "        logits = self.forward(x)\n",
    "        return F.softmax(logits)"
   ]
  },
  {
   "cell_type": "code",
   "execution_count": 11,
   "metadata": {},
   "outputs": [],
   "source": [
    "net = Network()\n",
    "criterion = nn.CrossEntropyLoss()\n",
    "optimizer = optim.SGD(net.parameters(), lr=0.01)"
   ]
  },
  {
   "cell_type": "markdown",
   "metadata": {},
   "source": [
    "First, let's consider just one learning step before looping through all the data. The general process with PyTorch:\n",
    "\n",
    "* Make a forward pass through the network to get the logits \n",
    "* Use the logits to calculate the loss\n",
    "* Perform a backward pass through the network with `loss.backward()` to calculate the gradients\n",
    "* Take a step with the optimizer to update the weights\n",
    "\n",
    "Below I'll go through one training step and print out the weights and gradients so you can see how it changes."
   ]
  },
  {
   "cell_type": "code",
   "execution_count": 12,
   "metadata": {},
   "outputs": [
    {
     "name": "stdout",
     "output_type": "stream",
     "text": [
      "Initial weights -  Parameter containing:\n",
      "tensor([[ 1.3705e-02, -1.1845e-02,  3.5593e-02,  ...,  7.1031e-03,\n",
      "          1.3307e-02, -4.6098e-03],\n",
      "        [ 2.7660e-02,  3.9479e-03,  1.2626e-02,  ..., -5.2614e-03,\n",
      "          1.0493e-03,  2.3678e-02],\n",
      "        [-2.5106e-03, -8.0797e-03, -3.4879e-02,  ..., -3.2479e-03,\n",
      "         -6.6071e-03, -3.5182e-02],\n",
      "        ...,\n",
      "        [-4.6291e-03,  1.6612e-02, -3.5645e-02,  ...,  1.0711e-02,\n",
      "         -2.8256e-02, -2.2569e-02],\n",
      "        [-2.2392e-02,  3.4220e-02,  1.3116e-02,  ...,  1.7722e-02,\n",
      "         -1.9565e-02, -1.8259e-02],\n",
      "        [-2.8018e-02, -2.2434e-02, -2.6447e-02,  ..., -8.5385e-03,\n",
      "          3.3591e-02,  2.8966e-02]])\n",
      "Gradient - tensor(1.00000e-02 *\n",
      "       [[-0.1484, -0.1484, -0.1484,  ..., -0.1484, -0.1484, -0.1484],\n",
      "        [-0.2542, -0.2542, -0.2542,  ..., -0.2542, -0.2542, -0.2542],\n",
      "        [ 0.0258,  0.0258,  0.0258,  ...,  0.0258,  0.0258,  0.0258],\n",
      "        ...,\n",
      "        [ 0.0423,  0.0423,  0.0423,  ...,  0.0423,  0.0423,  0.0423],\n",
      "        [ 0.3042,  0.3042,  0.3042,  ...,  0.3042,  0.3042,  0.3042],\n",
      "        [-0.0600, -0.0600, -0.0600,  ..., -0.0600, -0.0600, -0.0600]])\n"
     ]
    }
   ],
   "source": [
    "print('Initial weights - ', net.fc1.weight)\n",
    "\n",
    "dataiter = iter(trainloader)\n",
    "images, labels = dataiter.next()\n",
    "\n",
    "images.resize_(64, 784)\n",
    "\n",
    "# Create Variables for the inputs and targets\n",
    "inputs = Variable(images)\n",
    "targets = Variable(labels)\n",
    "\n",
    "# Clear the gradients from all Variables\n",
    "optimizer.zero_grad()\n",
    "\n",
    "# Forward pass, then backward pass, then update weights\n",
    "output = net.forward(inputs)\n",
    "loss = criterion(output, targets)\n",
    "loss.backward()\n",
    "print('Gradient -', net.fc1.weight.grad)\n",
    "optimizer.step()"
   ]
  },
  {
   "cell_type": "code",
   "execution_count": 13,
   "metadata": {},
   "outputs": [
    {
     "name": "stdout",
     "output_type": "stream",
     "text": [
      "Updated weights -  Parameter containing:\n",
      "tensor([[ 1.3720e-02, -1.1830e-02,  3.5608e-02,  ...,  7.1180e-03,\n",
      "          1.3322e-02, -4.5950e-03],\n",
      "        [ 2.7686e-02,  3.9734e-03,  1.2652e-02,  ..., -5.2360e-03,\n",
      "          1.0747e-03,  2.3703e-02],\n",
      "        [-2.5131e-03, -8.0823e-03, -3.4881e-02,  ..., -3.2505e-03,\n",
      "         -6.6097e-03, -3.5184e-02],\n",
      "        ...,\n",
      "        [-4.6333e-03,  1.6608e-02, -3.5650e-02,  ...,  1.0707e-02,\n",
      "         -2.8260e-02, -2.2574e-02],\n",
      "        [-2.2423e-02,  3.4189e-02,  1.3086e-02,  ...,  1.7691e-02,\n",
      "         -1.9596e-02, -1.8289e-02],\n",
      "        [-2.8012e-02, -2.2428e-02, -2.6441e-02,  ..., -8.5325e-03,\n",
      "          3.3597e-02,  2.8972e-02]])\n"
     ]
    }
   ],
   "source": [
    "print('Updated weights - ', net.fc1.weight)"
   ]
  },
  {
   "cell_type": "markdown",
   "metadata": {},
   "source": [
    "### Training for real\n",
    "\n",
    "Now we'll put this algorithm into a loop so we can go through all the images. This is fairly straightforward. We'll loop through the mini-batches in our dataset, pass the data through the network to calculate the losses, get the gradients, then run the optimizer"
   ]
  },
  {
   "cell_type": "code",
   "execution_count": 14,
   "metadata": {},
   "outputs": [],
   "source": [
    "net = Network()\n",
    "optimizer = optim.Adam(net.parameters(), lr=0.001)"
   ]
  },
  {
   "cell_type": "code",
   "execution_count": 15,
   "metadata": {},
   "outputs": [
    {
     "name": "stderr",
     "output_type": "stream",
     "text": [
      "/usr/local/lib/python3.5/dist-packages/ipykernel_launcher.py:20: UserWarning: invalid index of a 0-dim tensor. This will be an error in PyTorch 0.5. Use tensor.item() to convert a 0-dim tensor to a Python number\n",
      "/usr/local/lib/python3.5/dist-packages/ipykernel_launcher.py:28: UserWarning: volatile was removed and now has no effect. Use `with torch.no_grad():` instead.\n",
      "/usr/local/lib/python3.5/dist-packages/ipykernel_launcher.py:24: UserWarning: Implicit dimension choice for softmax has been deprecated. Change the call to include dim=X as an argument.\n"
     ]
    },
    {
     "name": "stdout",
     "output_type": "stream",
     "text": [
      "Epoch: 1/1 Loss: 2.1714 Test accuracy: 0.5974\n",
      "Epoch: 1/1 Loss: 1.7762 Test accuracy: 0.7269\n",
      "Epoch: 1/1 Loss: 1.3254 Test accuracy: 0.7373\n",
      "Epoch: 1/1 Loss: 1.0438 Test accuracy: 0.7729\n",
      "Epoch: 1/1 Loss: 0.8586 Test accuracy: 0.7817\n",
      "Epoch: 1/1 Loss: 0.7254 Test accuracy: 0.8012\n",
      "Epoch: 1/1 Loss: 0.6646 Test accuracy: 0.8393\n",
      "Epoch: 1/1 Loss: 0.5653 Test accuracy: 0.8363\n",
      "Epoch: 1/1 Loss: 0.4850 Test accuracy: 0.8572\n",
      "Epoch: 1/1 Loss: 0.4829 Test accuracy: 0.8636\n",
      "Epoch: 1/1 Loss: 0.4662 Test accuracy: 0.8823\n",
      "Epoch: 1/1 Loss: 0.4448 Test accuracy: 0.8854\n",
      "Epoch: 1/1 Loss: 0.4539 Test accuracy: 0.8902\n",
      "Epoch: 1/1 Loss: 0.3995 Test accuracy: 0.8725\n",
      "Epoch: 1/1 Loss: 0.4391 Test accuracy: 0.8876\n",
      "Epoch: 1/1 Loss: 0.3705 Test accuracy: 0.8806\n",
      "Epoch: 1/1 Loss: 0.4409 Test accuracy: 0.8792\n",
      "Epoch: 1/1 Loss: 0.3839 Test accuracy: 0.8895\n",
      "Epoch: 1/1 Loss: 0.3897 Test accuracy: 0.8751\n",
      "Epoch: 1/1 Loss: 0.4248 Test accuracy: 0.8938\n",
      "Epoch: 1/1 Loss: 0.4234 Test accuracy: 0.8981\n",
      "Epoch: 1/1 Loss: 0.4060 Test accuracy: 0.8906\n",
      "Epoch: 1/1 Loss: 0.4075 Test accuracy: 0.8834\n",
      "Epoch: 1/1 Loss: 0.4519 Test accuracy: 0.8786\n",
      "Epoch: 1/1 Loss: 0.3621 Test accuracy: 0.9030\n",
      "Epoch: 1/1 Loss: 0.4088 Test accuracy: 0.8958\n",
      "Epoch: 1/1 Loss: 0.3398 Test accuracy: 0.8967\n",
      "Epoch: 1/1 Loss: 0.3639 Test accuracy: 0.9099\n",
      "Epoch: 1/1 Loss: 0.2899 Test accuracy: 0.8933\n",
      "Epoch: 1/1 Loss: 0.3321 Test accuracy: 0.9057\n",
      "Epoch: 1/1 Loss: 0.3716 Test accuracy: 0.9053\n",
      "Epoch: 1/1 Loss: 0.3777 Test accuracy: 0.9082\n",
      "Epoch: 1/1 Loss: 0.3673 Test accuracy: 0.9113\n",
      "Epoch: 1/1 Loss: 0.2851 Test accuracy: 0.9050\n",
      "Epoch: 1/1 Loss: 0.3060 Test accuracy: 0.8913\n",
      "Epoch: 1/1 Loss: 0.3469 Test accuracy: 0.9017\n",
      "Epoch: 1/1 Loss: 0.2948 Test accuracy: 0.9006\n",
      "Epoch: 1/1 Loss: 0.3963 Test accuracy: 0.8926\n",
      "Epoch: 1/1 Loss: 0.3086 Test accuracy: 0.9024\n",
      "Epoch: 1/1 Loss: 0.3470 Test accuracy: 0.9047\n",
      "Epoch: 1/1 Loss: 0.3550 Test accuracy: 0.9035\n",
      "Epoch: 1/1 Loss: 0.3370 Test accuracy: 0.9139\n",
      "Epoch: 1/1 Loss: 0.3008 Test accuracy: 0.9132\n",
      "Epoch: 1/1 Loss: 0.3540 Test accuracy: 0.9178\n",
      "Epoch: 1/1 Loss: 0.2405 Test accuracy: 0.9136\n",
      "Epoch: 1/1 Loss: 0.2987 Test accuracy: 0.9141\n",
      "Epoch: 1/1 Loss: 0.3735 Test accuracy: 0.9210\n",
      "Epoch: 1/1 Loss: 0.3178 Test accuracy: 0.9124\n",
      "Epoch: 1/1 Loss: 0.3374 Test accuracy: 0.9181\n",
      "Epoch: 1/1 Loss: 0.3443 Test accuracy: 0.9158\n",
      "Epoch: 1/1 Loss: 0.2569 Test accuracy: 0.9211\n",
      "Epoch: 1/1 Loss: 0.2988 Test accuracy: 0.9162\n",
      "Epoch: 1/1 Loss: 0.3044 Test accuracy: 0.9212\n",
      "Epoch: 1/1 Loss: 0.3125 Test accuracy: 0.9185\n",
      "Epoch: 1/1 Loss: 0.2813 Test accuracy: 0.9171\n",
      "Epoch: 1/1 Loss: 0.2897 Test accuracy: 0.9272\n",
      "Epoch: 1/1 Loss: 0.3208 Test accuracy: 0.9199\n",
      "Epoch: 1/1 Loss: 0.2608 Test accuracy: 0.9257\n",
      "Epoch: 1/1 Loss: 0.2762 Test accuracy: 0.9218\n",
      "Epoch: 1/1 Loss: 0.3173 Test accuracy: 0.9174\n",
      "Epoch: 1/1 Loss: 0.3126 Test accuracy: 0.9204\n",
      "Epoch: 1/1 Loss: 0.3015 Test accuracy: 0.9176\n",
      "Epoch: 1/1 Loss: 0.2709 Test accuracy: 0.9306\n",
      "Epoch: 1/1 Loss: 0.2550 Test accuracy: 0.9242\n",
      "Epoch: 1/1 Loss: 0.2959 Test accuracy: 0.9277\n",
      "Epoch: 1/1 Loss: 0.2554 Test accuracy: 0.9308\n",
      "Epoch: 1/1 Loss: 0.1958 Test accuracy: 0.9253\n",
      "Epoch: 1/1 Loss: 0.2716 Test accuracy: 0.9224\n",
      "Epoch: 1/1 Loss: 0.2294 Test accuracy: 0.9248\n",
      "Epoch: 1/1 Loss: 0.2890 Test accuracy: 0.9262\n",
      "Epoch: 1/1 Loss: 0.3692 Test accuracy: 0.9262\n",
      "Epoch: 1/1 Loss: 0.2517 Test accuracy: 0.9172\n",
      "Epoch: 1/1 Loss: 0.2646 Test accuracy: 0.9235\n",
      "Epoch: 1/1 Loss: 0.2302 Test accuracy: 0.9315\n",
      "Epoch: 1/1 Loss: 0.2223 Test accuracy: 0.9203\n",
      "Epoch: 1/1 Loss: 0.3368 Test accuracy: 0.9238\n",
      "Epoch: 1/1 Loss: 0.2963 Test accuracy: 0.9268\n",
      "Epoch: 1/1 Loss: 0.2667 Test accuracy: 0.9291\n",
      "Epoch: 1/1 Loss: 0.2219 Test accuracy: 0.9311\n",
      "Epoch: 1/1 Loss: 0.2591 Test accuracy: 0.9298\n",
      "Epoch: 1/1 Loss: 0.2364 Test accuracy: 0.9289\n",
      "Epoch: 1/1 Loss: 0.2212 Test accuracy: 0.9267\n",
      "Epoch: 1/1 Loss: 0.2344 Test accuracy: 0.9374\n",
      "Epoch: 1/1 Loss: 0.2141 Test accuracy: 0.9390\n",
      "Epoch: 1/1 Loss: 0.2460 Test accuracy: 0.9374\n",
      "Epoch: 1/1 Loss: 0.1996 Test accuracy: 0.9385\n",
      "Epoch: 1/1 Loss: 0.2102 Test accuracy: 0.9331\n",
      "Epoch: 1/1 Loss: 0.1836 Test accuracy: 0.9370\n",
      "Epoch: 1/1 Loss: 0.1963 Test accuracy: 0.9342\n",
      "Epoch: 1/1 Loss: 0.2170 Test accuracy: 0.9319\n",
      "Epoch: 1/1 Loss: 0.2327 Test accuracy: 0.9286\n",
      "Epoch: 1/1 Loss: 0.1549 Test accuracy: 0.9296\n",
      "Epoch: 1/1 Loss: 0.2414 Test accuracy: 0.9326\n"
     ]
    }
   ],
   "source": [
    "epochs = 1\n",
    "steps = 0\n",
    "running_loss = 0\n",
    "print_every = 10\n",
    "for e in range(epochs):\n",
    "    for images, labels in iter(trainloader):\n",
    "        steps += 1\n",
    "        # Flatten MNIST images into a 784 long vector\n",
    "        images.resize_(images.size()[0], 784)\n",
    "\n",
    "        inputs = Variable(images)\n",
    "        targets = Variable(labels)\n",
    "        optimizer.zero_grad()\n",
    "        \n",
    "        output = net.forward(inputs)\n",
    "        loss = criterion(output, targets)\n",
    "        loss.backward()\n",
    "        optimizer.step()\n",
    "        \n",
    "        running_loss += loss.data[0]\n",
    "        \n",
    "        if steps % print_every == 0:\n",
    "            # Test accuracy\n",
    "            accuracy = 0\n",
    "            for ii, (images, labels) in enumerate(testloader):\n",
    "                \n",
    "                images = images.resize_(images.size()[0], 784)\n",
    "                inputs = Variable(images, volatile=True)\n",
    "                \n",
    "                predicted = net.predict(inputs).data\n",
    "                equality = (labels == predicted.max(1)[1])\n",
    "                accuracy += equality.type_as(torch.FloatTensor()).mean()\n",
    "            \n",
    "            print(\"Epoch: {}/{}\".format(e+1, epochs),\n",
    "                  \"Loss: {:.4f}\".format(running_loss/print_every),\n",
    "                  \"Test accuracy: {:.4f}\".format(accuracy/(ii+1)))\n",
    "            running_loss = 0"
   ]
  },
  {
   "cell_type": "code",
   "execution_count": null,
   "metadata": {
    "collapsed": true
   },
   "outputs": [],
   "source": [
    "dataiter = iter(testloader)\n",
    "images, labels = dataiter.next()"
   ]
  },
  {
   "cell_type": "code",
   "execution_count": null,
   "metadata": {},
   "outputs": [],
   "source": [
    "img = images[0]\n",
    "ps = net.predict(Variable(img.resize_(1, 784)))\n",
    "helper.view_classify(img.resize_(1, 28, 28), ps)"
   ]
  },
  {
   "cell_type": "markdown",
   "metadata": {},
   "source": [
    "## Convolutional Networks\n",
    "\n",
    "<img src='assets/padding_strides.gif'>\n",
    "\n",
    "Next we'll check out how to build a **convolutional network** to classify MNIST images. By using weight sharing - multiple units with the same weights - convolutional layers are able to learn repeated patterns in your data. For example, a unit could learn the pattern for an eye, or a face, or lower level features like edges.\n",
    "\n",
    "Traditionally, convolutional layers are followed by max-pooling, where values in the convolutional layer are aggregated into a smaller layer. \n",
    "\n",
    "<img src='assets/Pooling_Simple_max.png' width=600px>\n",
    "\n",
    "These types of networks become really useful when you stack a bunch of layers, you make the network *deeper*. Typically you'll use a convolutional layer to change the depth, ReLU activation, then a max-pooling layer to reduce the height and width.\n",
    "\n",
    "<img src='assets/conv_net.jpg' width=600px>\n",
    "\n",
    "To finish off the network, you need to flatten the final convolutional layer into a normal fully-connected (dense) layer, then add more fully-connected layers as a classifier. The convolutional layers act as feature detectors that the classifier uses as inputs. Convolutional networks have been massively effective in image classification, object recognition, and even in natural language processing applications like speech generation.\n",
    "\n",
    "Building this new network is pretty much the same as before, but we use `nn.Conv2d` for the convolutional layers and `nn.MaxPool2d` for the max-pooling layer. (Although max-pooling has fallen out of favor recently, but this is traditional so let's stick with it.)\n",
    "\n",
    "So here I'll build a convolutional network with two convolutional layers, with ReLU activations, and max-pooling after each. The first convolutional layer will have a depth of 10, use a 5x5 kernel, with a stride of 1 (so no downsampling). The second convolutional layer will have a depth of 20, use a 5x5 kernel, and a stride of 1 again. Both layers will have \"same\" padding, but it's done differently here than in TensorFlow. Instead of saying we want \"same\" padding and letting the framework pad the input tensors, we define how much padding we want on the tensors. The padding should be set to 2 then, since we are using 5x5 kernels and we want the center of the kernel to lie on the edges of the images. Then, there will be two pixels of the kernel falling over the edge of the images.\n",
    "\n",
    "We'll flatten the final convolutional layer and pass it to a fully connected layer. We can change the shape of the Variable `x` with `x.view`. This is then passed to the fully connected layer, which then goes to the output layer with 10 units."
   ]
  },
  {
   "cell_type": "code",
   "execution_count": 14,
   "metadata": {},
   "outputs": [],
   "source": [
    "class ConvNet(nn.Module):\n",
    "    def __init__(self, n_conv1=10, n_conv2=20):\n",
    "        super().__init__()\n",
    "        \n",
    "        self.n_conv1, self.n_conv2 = n_conv1, n_conv2\n",
    "        \n",
    "        # conv layer with depth n_conv1, 5x5 kernels, and \"same\" padding\n",
    "        self.conv1 = nn.Conv2d(1, n_conv1, 5, padding=2)\n",
    "        # conv layer with depth n_conv2, 5x5 kernels, and \"same\" padding\n",
    "        self.conv2 = nn.Conv2d(n_conv1, n_conv2, 5, padding=2)\n",
    "        self.pool = nn.MaxPool2d(2, 2)\n",
    "        \n",
    "        # The second convolutional layer will have size [7, 7, n_conv2], fc1 flattens it\n",
    "        self.fc1 = nn.Linear(n_conv2*7*7, 50)\n",
    "        self.fc2 = nn.Linear(50, 10)\n",
    "    \n",
    "    def forward(self, x):\n",
    "        # First conv layer, then ReLU, then max-pooling\n",
    "        x = F.relu(self.pool(self.conv1(x)))\n",
    "        # Second conv layer, then ReLU, then max-pooling\n",
    "        x = F.relu(self.pool(self.conv2(x)))\n",
    "        # Flatten conv layer by reshaping\n",
    "        x = x.view(-1, self.n_conv2*7*7)\n",
    "        # Fully connected layers\n",
    "        x = F.relu(self.fc1(x))\n",
    "        x = self.fc2(x)\n",
    "        #x = F.relu(self.fc3(x))\n",
    "        \n",
    "        return x\n",
    "    \n",
    "    def predict(self, x):\n",
    "        logits = self.forward(x)\n",
    "        return F.softmax(logits)"
   ]
  },
  {
   "cell_type": "code",
   "execution_count": 15,
   "metadata": {},
   "outputs": [
    {
     "ename": "ValueError",
     "evalue": "batch_size attribute should not be set after DataLoader is initialized",
     "output_type": "error",
     "traceback": [
      "\u001b[0;31m\u001b[0m",
      "\u001b[0;31mValueError\u001b[0mTraceback (most recent call last)",
      "\u001b[0;32m<ipython-input-15-8d8c887d8373>\u001b[0m in \u001b[0;36m<module>\u001b[0;34m()\u001b[0m\n\u001b[1;32m      3\u001b[0m \u001b[0moptimizer\u001b[0m \u001b[0;34m=\u001b[0m \u001b[0moptim\u001b[0m\u001b[0;34m.\u001b[0m\u001b[0mAdam\u001b[0m\u001b[0;34m(\u001b[0m\u001b[0mnet\u001b[0m\u001b[0;34m.\u001b[0m\u001b[0mparameters\u001b[0m\u001b[0;34m(\u001b[0m\u001b[0;34m)\u001b[0m\u001b[0;34m,\u001b[0m \u001b[0mlr\u001b[0m\u001b[0;34m=\u001b[0m\u001b[0;36m0.001\u001b[0m\u001b[0;34m)\u001b[0m\u001b[0;34m\u001b[0m\u001b[0m\n\u001b[1;32m      4\u001b[0m \u001b[0;34m\u001b[0m\u001b[0m\n\u001b[0;32m----> 5\u001b[0;31m \u001b[0mtrainloader\u001b[0m\u001b[0;34m.\u001b[0m\u001b[0mbatch_size\u001b[0m \u001b[0;34m=\u001b[0m \u001b[0;36m128\u001b[0m\u001b[0;34m\u001b[0m\u001b[0m\n\u001b[0m\u001b[1;32m      6\u001b[0m \u001b[0;34m\u001b[0m\u001b[0m\n\u001b[1;32m      7\u001b[0m \u001b[0mepochs\u001b[0m \u001b[0;34m=\u001b[0m \u001b[0;36m1\u001b[0m\u001b[0;34m\u001b[0m\u001b[0m\n",
      "\u001b[0;32m/usr/local/lib/python3.5/dist-packages/torch/utils/data/dataloader.py\u001b[0m in \u001b[0;36m__setattr__\u001b[0;34m(self, attr, val)\u001b[0m\n\u001b[1;32m    444\u001b[0m         \u001b[0;32mif\u001b[0m \u001b[0mself\u001b[0m\u001b[0;34m.\u001b[0m\u001b[0m__initialized\u001b[0m \u001b[0;32mand\u001b[0m \u001b[0mattr\u001b[0m \u001b[0;32min\u001b[0m \u001b[0;34m(\u001b[0m\u001b[0;34m'batch_size'\u001b[0m\u001b[0;34m,\u001b[0m \u001b[0;34m'sampler'\u001b[0m\u001b[0;34m,\u001b[0m \u001b[0;34m'drop_last'\u001b[0m\u001b[0;34m)\u001b[0m\u001b[0;34m:\u001b[0m\u001b[0;34m\u001b[0m\u001b[0m\n\u001b[1;32m    445\u001b[0m             raise ValueError('{} attribute should not be set after {} is '\n\u001b[0;32m--> 446\u001b[0;31m                              'initialized'.format(attr, self.__class__.__name__))\n\u001b[0m\u001b[1;32m    447\u001b[0m \u001b[0;34m\u001b[0m\u001b[0m\n\u001b[1;32m    448\u001b[0m         \u001b[0msuper\u001b[0m\u001b[0;34m(\u001b[0m\u001b[0mDataLoader\u001b[0m\u001b[0;34m,\u001b[0m \u001b[0mself\u001b[0m\u001b[0;34m)\u001b[0m\u001b[0;34m.\u001b[0m\u001b[0m__setattr__\u001b[0m\u001b[0;34m(\u001b[0m\u001b[0mattr\u001b[0m\u001b[0;34m,\u001b[0m \u001b[0mval\u001b[0m\u001b[0;34m)\u001b[0m\u001b[0;34m\u001b[0m\u001b[0m\n",
      "\u001b[0;31mValueError\u001b[0m: batch_size attribute should not be set after DataLoader is initialized"
     ]
    }
   ],
   "source": [
    "net = ConvNet()\n",
    "criterion = nn.CrossEntropyLoss()\n",
    "optimizer = optim.Adam(net.parameters(), lr=0.001)\n",
    "\n",
    "trainloader.batch_size = 128\n",
    "\n",
    "epochs = 1\n",
    "steps = 0\n",
    "running_loss = 0\n",
    "print_every = 20\n",
    "for e in range(epochs):\n",
    "    start = time.time()\n",
    "    for images, labels in iter(trainloader):\n",
    "        \n",
    "        steps += 1\n",
    "\n",
    "        inputs = Variable(images)\n",
    "        targets = Variable(labels)\n",
    "        optimizer.zero_grad()\n",
    "        \n",
    "        output = net.forward(inputs)\n",
    "        loss = criterion(output, targets)\n",
    "        loss.backward()\n",
    "        optimizer.step()\n",
    "        \n",
    "        running_loss += loss.data[0]\n",
    "        \n",
    "        if steps % print_every == 0:\n",
    "            stop = time.time()\n",
    "            # Test accuracy\n",
    "            accuracy = 0\n",
    "            for ii, (images, labels) in enumerate(testloader):\n",
    "                \n",
    "                #images = images.resize_(images.size()[0], 784)\n",
    "                inputs = Variable(images, volatile=True)\n",
    "                \n",
    "                predicted = net.predict(inputs).data\n",
    "                equality = (labels == predicted.max(1)[1])\n",
    "                accuracy += equality.type_as(torch.FloatTensor()).mean()\n",
    "            \n",
    "            print(\"Epoch: {}/{}..\".format(e+1, epochs),\n",
    "                  \"Loss: {:.4f}..\".format(running_loss/print_every),\n",
    "                  \"Test accuracy: {:.4f}..\".format(accuracy/(ii+1)),\n",
    "                  \"{:.4f} s/batch\".format((stop - start)/print_every)\n",
    "                 )\n",
    "            running_loss = 0\n",
    "            start = time.time()"
   ]
  },
  {
   "cell_type": "markdown",
   "metadata": {},
   "source": [
    "## Speeding things up\n",
    "\n",
    "We can greatly speed up our training by running the matrix operations on a GPU with CUDA. In PyTorch, we do this by sending the tensors to the GPU. First, you set the network to use the GPU with `net.cuda()`. Then, the input and target tensors are sent to the GPU, typically with some flag\n",
    "\n",
    "```\n",
    "if cuda == True:\n",
    "    inputs, targets = inputs.cuda(), targets.cuda()\n",
    "```\n",
    "\n",
    "And that's it. The output of the network will again be a tensor on the GPU, so to get it back to the CPU for further operations (such as with Numpy), you use `output = output.cpu()`. Similarly, to set the network back to running on the CPU, use `net.cpu()`."
   ]
  },
  {
   "cell_type": "code",
   "execution_count": null,
   "metadata": {
    "collapsed": true
   },
   "outputs": [],
   "source": [
    "net = ConvNet()\n",
    "criterion = nn.CrossEntropyLoss()\n",
    "optimizer = optim.Adam(net.parameters(), lr=0.001)\n",
    "\n",
    "net.cuda()\n",
    "\n",
    "trainloader.batch_size = 128\n",
    "epochs = 5\n",
    "steps = 0\n",
    "running_loss = 0\n",
    "print_every = 50\n",
    "for e in range(epochs):\n",
    "    start = time.time()\n",
    "    for images, labels in iter(trainloader):\n",
    "        \n",
    "        steps += 1\n",
    "\n",
    "        inputs = Variable(images)\n",
    "        targets = Variable(labels)\n",
    "        \n",
    "        inputs, targets = inputs.cuda(), targets.cuda()\n",
    "        \n",
    "        optimizer.zero_grad()\n",
    "        \n",
    "        output = net.forward(inputs)\n",
    "        loss = criterion(output, targets)\n",
    "        loss.backward()\n",
    "        optimizer.step()\n",
    "        \n",
    "        running_loss += loss.data[0]\n",
    "        \n",
    "        if steps % print_every == 0:\n",
    "            stop = time.time()\n",
    "            # Test accuracy\n",
    "            accuracy = 0\n",
    "            for ii, (images, labels) in enumerate(testloader):\n",
    "                \n",
    "                inputs = Variable(images, volatile=True)\n",
    "                inputs = inputs.cuda()\n",
    "                \n",
    "                # Get the class prediction and bring it back to the CPU\n",
    "                predicted = net.predict(inputs).data.cpu()\n",
    "                equality = (labels == predicted.max(1)[1])\n",
    "                accuracy += equality.type_as(torch.FloatTensor()).mean()\n",
    "            \n",
    "            print(\"Epoch: {}/{}..\".format(e+1, epochs),\n",
    "                  \"Loss: {:.4f}..\".format(running_loss/print_every),\n",
    "                  \"Test accuracy: {:.4f}..\".format(accuracy/(ii+1)),\n",
    "                  \"{:.4f} s/batch\".format((stop - start)/print_every)\n",
    "                 )\n",
    "            running_loss = 0\n",
    "            start = time.time()"
   ]
  },
  {
   "cell_type": "markdown",
   "metadata": {},
   "source": [
    "## Saving and loading models\n",
    "\n",
    "Now that we know how to build and train models, we actually need to be able to use these things after training. The general way to do this is building a dictionary with hyperparameters such as sizes of the convolutional layers and such. The parameters and other information needed to rebuild the model are stored in `net.state_dict()`. Then you build a dictionary that looks something like\n",
    "\n",
    "```python\n",
    "checkpoint = {'n_conv1': 10,\n",
    "              'n_conv2': 20,\n",
    "              'state_dict': model.state_dict()}\n",
    "```\n",
    "\n",
    "You save this check point to a file with `torch.save(checkpoint, file_object)`.\n",
    "\n",
    "Then, to load a checkpoint, use `torch.load`. This loads the whole dictionary so you have the hyperparameters to rebuild the network as well as `state_dict` which contains the values for weights and such."
   ]
  },
  {
   "cell_type": "code",
   "execution_count": null,
   "metadata": {
    "collapsed": true
   },
   "outputs": [],
   "source": [
    "## Save the model\n",
    "filename = 'mnist1.ckpt'\n",
    "checkpoint = {'n_conv1': net.n_conv1,\n",
    "              'n_conv2': net.n_conv2,\n",
    "              'state_dict': net.state_dict()}\n",
    "with open(filename, 'wb') as f:\n",
    "    torch.save(checkpoint, f)"
   ]
  },
  {
   "cell_type": "code",
   "execution_count": null,
   "metadata": {
    "collapsed": true
   },
   "outputs": [],
   "source": [
    "## Load the model\n",
    "filename = 'mnist1.ckpt'\n",
    "with open(filename, 'rb') as f:\n",
    "        checkpoint = torch.load(f)\n",
    "\n",
    "model = ConvNet(n_conv1=checkpoint['n_conv1'],\n",
    "                n_conv2=checkpoint['n_conv2'])\n",
    "model.load_state_dict(checkpoint['state_dict'])"
   ]
  },
  {
   "cell_type": "code",
   "execution_count": null,
   "metadata": {
    "collapsed": true
   },
   "outputs": [],
   "source": [
    "dataiter = iter(testloader)"
   ]
  },
  {
   "cell_type": "code",
   "execution_count": null,
   "metadata": {
    "collapsed": true
   },
   "outputs": [],
   "source": [
    "images, labels = dataiter.next()\n",
    "img = images[0]\n",
    "ps = model.predict(Variable(img.resize_(1, *img.size())))\n",
    "helper.view_classify(img, ps)"
   ]
  }
 ],
 "metadata": {
  "kernelspec": {
   "display_name": "Python 3",
   "language": "python",
   "name": "python3"
  },
  "language_info": {
   "codemirror_mode": {
    "name": "ipython",
    "version": 3
   },
   "file_extension": ".py",
   "mimetype": "text/x-python",
   "name": "python",
   "nbconvert_exporter": "python",
   "pygments_lexer": "ipython3",
   "version": "3.5.2"
  }
 },
 "nbformat": 4,
 "nbformat_minor": 2
}
